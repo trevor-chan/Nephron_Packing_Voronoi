{
 "cells": [
  {
   "cell_type": "code",
   "execution_count": 1,
   "metadata": {},
   "outputs": [
    {
     "data": {
      "text/plain": [
       "{'divide': 'warn', 'over': 'warn', 'under': 'ignore', 'invalid': 'warn'}"
      ]
     },
     "execution_count": 1,
     "metadata": {},
     "output_type": "execute_result"
    }
   ],
   "source": [
    "import sys\n",
    "import matplotlib.pyplot as plt\n",
    "import numpy as np\n",
    "import os\n",
    "\n",
    "import networkx as nx\n",
    "\n",
    "import pickle\n",
    "from PIL import Image, ImageDraw\n",
    "import matplotlib.lines as lines\n",
    "from mpl_toolkits import mplot3d\n",
    "from matplotlib.lines import Line2D\n",
    "\n",
    "from tqdm import tqdm\n",
    "import glob\n",
    "\n",
    "import statistics \n",
    "\n",
    "#For network adjacency checks\n",
    "from skimage.transform import rotate\n",
    "from sklearn.neighbors import KDTree\n",
    "from scipy.spatial import distance\n",
    "\n",
    "#For PCA\n",
    "import pandas as pd\n",
    "import seaborn as sns\n",
    "import json\n",
    "import re\n",
    "\n",
    "import warnings\n",
    "\n",
    "np.seterr(all='raise')"
   ]
  },
  {
   "cell_type": "code",
   "execution_count": 5,
   "metadata": {},
   "outputs": [
    {
     "name": "stdout",
     "output_type": "stream",
     "text": [
      "/Users/trevorchan/research/morpho_scripts\n"
     ]
    }
   ],
   "source": [
    "%cd .."
   ]
  },
  {
   "cell_type": "code",
   "execution_count": 11,
   "metadata": {},
   "outputs": [],
   "source": [
    "with open('directed_graph/combineddf.data', 'rb') as pickle_file:\n",
    "    combineddf = pickle.load(pickle_file)\n",
    "with open('directed_graph/YMcombineddf.data', 'rb') as pickle_file:\n",
    "    YMcombineddf = pickle.load(pickle_file)\n",
    "with open('directed_graph/YMRcombineddf.data', 'rb') as pickle_file:\n",
    "    YMRcombineddf = pickle.load(pickle_file)\n",
    "\n",
    "corr = YMcombineddf.corr()\n",
    "\n",
    "links = corr.stack().reset_index()\n",
    "links.columns = ['var1', 'var2', 'value']\n",
    "\n",
    "# Keep only correlation over a threshold and remove self correlation (cor(A,A)=1)\n",
    "links_filtered=links.loc[ (abs(links['value']) > 0.7) & (links['var1'] != links['var2']) ]\n",
    "\n",
    "links_filtered = links_filtered.drop_duplicates(subset=['value'])\n"
   ]
  },
  {
   "cell_type": "code",
   "execution_count": 7,
   "metadata": {},
   "outputs": [],
   "source": [
    "# #Use for showing only 3D to 2D correlations\n",
    "\n",
    "# twod = ['ncompk', 'mdeg_l', 'dmdeg_l', 'mdeg_h', 'dmdeg_h', \n",
    "#                 'fdim0',  'cnumh', 'cnumk','circum_h','area_l', 'circum_l', 'areavar','circumvar','asravar', 'circ1', 'asra1', \n",
    "#                 'area_h', 'circ0', 'asra0', 'circvar',]\n",
    "# threed = ['protrusion_mean_len', 'protrusion_max_len','protrusion_num','discr_mean_dist', 'discr_max_dist', 'discr_mean_area', \n",
    "#       'discr_num','area', 'perimeter', 'aspect_ratio', 'roundness', 'circularity',]\n",
    "\n",
    "# pop_index = []\n",
    "# for index, row in links_filtered.iterrows():\n",
    "    \n",
    "#     if row['var1'] in twod:\n",
    "#         if row['var2'] in threed:\n",
    "#             continue\n",
    "#     if row['var1'] in threed:\n",
    "#         if row['var2'] in twod:\n",
    "#             continue\n",
    "#     pop_index.append(index)\n",
    "# links_filtered = links_filtered.drop(pop_index)"
   ]
  },
  {
   "cell_type": "code",
   "execution_count": 12,
   "metadata": {},
   "outputs": [],
   "source": [
    "unique_vars = pd.DataFrame(np.unique(corr.columns))"
   ]
  },
  {
   "cell_type": "code",
   "execution_count": 13,
   "metadata": {},
   "outputs": [],
   "source": [
    "templinks = [{'source':link[0],'target':link[1],'value':link[2]} for link in links_filtered.to_numpy()]\n",
    "\n",
    "links_list = []\n",
    "for link in templinks:\n",
    "    unique_vars.index[unique_vars[0]=='solidity'].to_list()[0]\n",
    "    record = {\"value\":link['value'], \"source\": unique_vars.index[unique_vars[0]==link['source']].to_list()[0],\n",
    "     \"target\": unique_vars.index[unique_vars[0]==link['target']].to_list()[0]}\n",
    "    links_list.append(record)"
   ]
  },
  {
   "cell_type": "code",
   "execution_count": 14,
   "metadata": {},
   "outputs": [],
   "source": [
    "#label colors and edges\n",
    "def grouper(var):\n",
    "    if var in ['ncompk', 'mdeg_l', 'dmdeg_l', 'mdeg_h', 'dmdeg_h', \n",
    "                'fdim0',  'cnumh', 'cnumk', ]:#Network Variables\n",
    "        return '0'\n",
    "    elif var in ['circum_h','area_l', 'circum_l', 'areavar','circumvar','asravar', 'circ1', 'asra1', \n",
    "                'area_h', 'circ0', 'asra0', 'circvar',]:#Single Cell Morph Vars\n",
    "        return '1'\n",
    "    elif var in [ ]:#Single Cell Morph Vars\n",
    "        return '2'\n",
    "    elif var in ['protrusion_mean_len', 'protrusion_max_len','protrusion_num',]:\n",
    "        return '3'#Spheroid Protrusion Vars\n",
    "    elif var in ['discr_mean_dist', 'discr_max_dist', 'discr_mean_area', 'discr_num']:\n",
    "        return '4'#Spheroid Discrete Region Vars\n",
    "    elif var in ['area', 'perimeter', 'aspect_ratio', 'roundness', 'circularity',]:\n",
    "        return '5'#Random Spheroid Vars\n",
    "        \n",
    "\n",
    "nodes_list = []\n",
    "for var in unique_vars.to_numpy():\n",
    "    nodes_list.append({'name':var[0],'group':grouper(var)})"
   ]
  },
  {
   "cell_type": "code",
   "execution_count": 15,
   "metadata": {},
   "outputs": [
    {
     "data": {
      "text/plain": [
       "dict_keys(['links', 'nodes'])"
      ]
     },
     "execution_count": 15,
     "metadata": {},
     "output_type": "execute_result"
    }
   ],
   "source": [
    "json_prep = {\"links\":links_list, \"nodes\":nodes_list}\n",
    "\n",
    "json_prep.keys()"
   ]
  },
  {
   "cell_type": "code",
   "execution_count": 16,
   "metadata": {},
   "outputs": [],
   "source": [
    "json_dump = json.dumps(json_prep, indent=1, sort_keys=True)"
   ]
  },
  {
   "cell_type": "code",
   "execution_count": 17,
   "metadata": {},
   "outputs": [],
   "source": [
    "filename_out = 'directed_graph/pcap_export1.json'\n",
    "json_out = open(filename_out,'w')\n",
    "json_out.write(json_dump)\n",
    "json_out.close()"
   ]
  },
  {
   "cell_type": "code",
   "execution_count": 18,
   "metadata": {},
   "outputs": [
    {
     "data": {
      "text/plain": [
       "256"
      ]
     },
     "execution_count": 18,
     "metadata": {},
     "output_type": "execute_result"
    }
   ],
   "source": [
    "len(links_filtered)"
   ]
  },
  {
   "cell_type": "code",
   "execution_count": null,
   "metadata": {},
   "outputs": [],
   "source": []
  },
  {
   "cell_type": "code",
   "execution_count": null,
   "metadata": {},
   "outputs": [],
   "source": []
  }
 ],
 "metadata": {
  "kernelspec": {
   "display_name": "Python 3",
   "language": "python",
   "name": "python3"
  },
  "language_info": {
   "codemirror_mode": {
    "name": "ipython",
    "version": 3
   },
   "file_extension": ".py",
   "mimetype": "text/x-python",
   "name": "python",
   "nbconvert_exporter": "python",
   "pygments_lexer": "ipython3",
   "version": "3.7.7"
  }
 },
 "nbformat": 4,
 "nbformat_minor": 4
}
